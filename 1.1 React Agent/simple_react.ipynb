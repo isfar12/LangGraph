{
 "cells": [
  {
   "cell_type": "markdown",
   "id": "f064b42f",
   "metadata": {},
   "source": [
    "# Use API as an agent"
   ]
  },
  {
   "cell_type": "code",
   "execution_count": 1,
   "id": "f6eb60b8",
   "metadata": {},
   "outputs": [
    {
     "data": {
      "text/plain": [
       "True"
      ]
     },
     "execution_count": 1,
     "metadata": {},
     "output_type": "execute_result"
    }
   ],
   "source": [
    "from langgraph.graph import StateGraph,START,END\n",
    "from langchain_groq import ChatGroq\n",
    "from typing import TypedDict\n",
    "from dotenv import load_dotenv\n",
    "from langchain.agents import initialize_agent,AgentType\n",
    "from langchain_tavily import TavilySearch\n",
    "load_dotenv()"
   ]
  },
  {
   "cell_type": "code",
   "execution_count": 2,
   "id": "0c9598ca",
   "metadata": {},
   "outputs": [],
   "source": [
    "model= ChatGroq(\n",
    "model=\"llama-3.3-70b-versatile\",\n",
    "temperature=0.5\n",
    ")\n",
    "\n",
    "search_tool=TavilySearch(search_depth=\"basic\",)\n"
   ]
  },
  {
   "cell_type": "code",
   "execution_count": 4,
   "id": "24f76a70",
   "metadata": {},
   "outputs": [
    {
     "name": "stdout",
     "output_type": "stream",
     "text": [
      "\n",
      "\n",
      "\u001b[1m> Entering new AgentExecutor chain...\u001b[0m\n",
      "\u001b[32;1m\u001b[1;3mAction:\n",
      "```\n",
      "{\n",
      "  \"action\": \"tavily_search\",\n",
      "  \"action_input\": {\n",
      "    \"query\": \"Barisal Division weather\",\n",
      "    \"include_domains\": [],\n",
      "    \"exclude_domains\": [],\n",
      "    \"search_depth\": \"basic\",\n",
      "    \"include_images\": false,\n",
      "    \"time_range\": null,\n",
      "    \"topic\": \"general\",\n",
      "    \"include_favicon\": false,\n",
      "    \"start_date\": null,\n",
      "    \"end_date\": null\n",
      "  }\n",
      "}\n",
      "```\n",
      "\u001b[0m\n",
      "Observation: \u001b[36;1m\u001b[1;3m{'query': 'Barisal Division weather', 'follow_up_questions': None, 'answer': None, 'images': [], 'results': [{'title': 'Weather in Barisal Division, Bangladesh', 'url': 'https://www.weatherapi.com/', 'content': \"{'location': {'name': 'Barisal', 'region': '', 'country': 'Bangladesh', 'lat': 22.7, 'lon': 90.3667, 'tz_id': 'Asia/Dhaka', 'localtime_epoch': 1756887789, 'localtime': '2025-09-03 14:23'}, 'current': {'last_updated_epoch': 1756887300, 'last_updated': '2025-09-03 14:15', 'temp_c': 31.7, 'temp_f': 89.0, 'is_day': 1, 'condition': {'text': 'Partly Cloudy', 'icon': '//cdn.weatherapi.com/weather/64x64/day/116.png', 'code': 1003}, 'wind_mph': 18.3, 'wind_kph': 29.5, 'wind_degree': 148, 'wind_dir': 'SSE', 'pressure_mb': 1002.0, 'pressure_in': 29.6, 'precip_mm': 0.0, 'precip_in': 0.0, 'humidity': 65, 'cloud': 53, 'feelslike_c': 37.7, 'feelslike_f': 99.9, 'windchill_c': 31.7, 'windchill_f': 89.0, 'heatindex_c': 37.7, 'heatindex_f': 99.9, 'dewpoint_c': 24.2, 'dewpoint_f': 75.6, 'vis_km': 10.0, 'vis_miles': 6.0, 'uv': 5.8, 'gust_mph': 21.1, 'gust_kph': 33.9}}\", 'score': 0.8796269, 'raw_content': None}, {'url': 'https://www.accuweather.com/en/bd/barishal/27110/september-weather/27110', 'title': '2025 - Barishal, Barisal, Bangladesh Monthly Weather | AccuWeather', 'content': 'Missing: Division 03/09/2025', 'score': 0.854509, 'raw_content': None}, {'url': 'https://weather.com/en-GB/weather/monthly/l/cdf545cc2f4c8703c9cb59056b0485eac3c7a1b8147b9831f3ab9a4875a0a450', 'title': 'Monthly weather forecast for Barisal, Barisal, Bangladesh', 'content': 'Missing: Division 03/09/2025', 'score': 0.8473754, 'raw_content': None}, {'url': 'https://world-weather.info/forecast/bangladesh/barisal/month/', 'title': 'Barisāl 30-Day Weather Forecast', 'content': 'Monthly Weather Forecast ⚡ in Barisāl, , Bangladesh for September2025 . Long-term Weather Forecast in Barisāl for 30 days: 🌡 air temperature day and night', 'score': 0.8396422, 'raw_content': None}, {'url': 'https://en.climate-data.org/asia/bangladesh/barisal-division/barisal-31711/t/september-9/', 'title': 'Weather Barisal in September 2025 - Climate-Data.org', 'content': 'Missing: 03/09/2025', 'score': 0.7304634, 'raw_content': None}], 'response_time': 2.12, 'request_id': '431b1df8-06be-42fb-b817-0790ae81bb34'}\u001b[0m\n",
      "Thought:\u001b[32;1m\u001b[1;3mThe search results provide the current weather in Barisal Division, Bangladesh. \n",
      "\n",
      "Action:\n",
      "```\n",
      "{\n",
      "  \"action\": \"Final Answer\",\n",
      "  \"action_input\": \"The current weather in Barisal Division is partly cloudy with a temperature of 31.7°C and a feels-like temperature of 37.7°C. The humidity is 65% and the wind is blowing at 29.5 km/h from the SSE direction.\"\n",
      "}\n",
      "```\u001b[0m\n",
      "\n",
      "\u001b[1m> Finished chain.\u001b[0m\n"
     ]
    },
    {
     "data": {
      "text/plain": [
       "{'input': 'What is the weather in Barisal Division',\n",
       " 'output': 'The current weather in Barisal Division is partly cloudy with a temperature of 31.7°C and a feels-like temperature of 37.7°C. The humidity is 65% and the wind is blowing at 29.5 km/h from the SSE direction.',\n",
       " 'intermediate_steps': [(AgentAction(tool='tavily_search', tool_input={'query': 'Barisal Division weather', 'include_domains': [], 'exclude_domains': [], 'search_depth': 'basic', 'include_images': False, 'time_range': None, 'topic': 'general', 'include_favicon': False, 'start_date': None, 'end_date': None}, log='Action:\\n```\\n{\\n  \"action\": \"tavily_search\",\\n  \"action_input\": {\\n    \"query\": \"Barisal Division weather\",\\n    \"include_domains\": [],\\n    \"exclude_domains\": [],\\n    \"search_depth\": \"basic\",\\n    \"include_images\": false,\\n    \"time_range\": null,\\n    \"topic\": \"general\",\\n    \"include_favicon\": false,\\n    \"start_date\": null,\\n    \"end_date\": null\\n  }\\n}\\n```\\n'),\n",
       "   {'query': 'Barisal Division weather',\n",
       "    'follow_up_questions': None,\n",
       "    'answer': None,\n",
       "    'images': [],\n",
       "    'results': [{'title': 'Weather in Barisal Division, Bangladesh',\n",
       "      'url': 'https://www.weatherapi.com/',\n",
       "      'content': \"{'location': {'name': 'Barisal', 'region': '', 'country': 'Bangladesh', 'lat': 22.7, 'lon': 90.3667, 'tz_id': 'Asia/Dhaka', 'localtime_epoch': 1756887789, 'localtime': '2025-09-03 14:23'}, 'current': {'last_updated_epoch': 1756887300, 'last_updated': '2025-09-03 14:15', 'temp_c': 31.7, 'temp_f': 89.0, 'is_day': 1, 'condition': {'text': 'Partly Cloudy', 'icon': '//cdn.weatherapi.com/weather/64x64/day/116.png', 'code': 1003}, 'wind_mph': 18.3, 'wind_kph': 29.5, 'wind_degree': 148, 'wind_dir': 'SSE', 'pressure_mb': 1002.0, 'pressure_in': 29.6, 'precip_mm': 0.0, 'precip_in': 0.0, 'humidity': 65, 'cloud': 53, 'feelslike_c': 37.7, 'feelslike_f': 99.9, 'windchill_c': 31.7, 'windchill_f': 89.0, 'heatindex_c': 37.7, 'heatindex_f': 99.9, 'dewpoint_c': 24.2, 'dewpoint_f': 75.6, 'vis_km': 10.0, 'vis_miles': 6.0, 'uv': 5.8, 'gust_mph': 21.1, 'gust_kph': 33.9}}\",\n",
       "      'score': 0.8796269,\n",
       "      'raw_content': None},\n",
       "     {'url': 'https://www.accuweather.com/en/bd/barishal/27110/september-weather/27110',\n",
       "      'title': '2025 - Barishal, Barisal, Bangladesh Monthly Weather | AccuWeather',\n",
       "      'content': 'Missing: Division 03/09/2025',\n",
       "      'score': 0.854509,\n",
       "      'raw_content': None},\n",
       "     {'url': 'https://weather.com/en-GB/weather/monthly/l/cdf545cc2f4c8703c9cb59056b0485eac3c7a1b8147b9831f3ab9a4875a0a450',\n",
       "      'title': 'Monthly weather forecast for Barisal, Barisal, Bangladesh',\n",
       "      'content': 'Missing: Division 03/09/2025',\n",
       "      'score': 0.8473754,\n",
       "      'raw_content': None},\n",
       "     {'url': 'https://world-weather.info/forecast/bangladesh/barisal/month/',\n",
       "      'title': 'Barisāl 30-Day Weather Forecast',\n",
       "      'content': 'Monthly Weather Forecast ⚡ in Barisāl, , Bangladesh for September2025 . Long-term Weather Forecast in Barisāl for 30 days: 🌡 air temperature day and night',\n",
       "      'score': 0.8396422,\n",
       "      'raw_content': None},\n",
       "     {'url': 'https://en.climate-data.org/asia/bangladesh/barisal-division/barisal-31711/t/september-9/',\n",
       "      'title': 'Weather Barisal in September 2025 - Climate-Data.org',\n",
       "      'content': 'Missing: 03/09/2025',\n",
       "      'score': 0.7304634,\n",
       "      'raw_content': None}],\n",
       "    'response_time': 2.12,\n",
       "    'request_id': '431b1df8-06be-42fb-b817-0790ae81bb34'})]}"
      ]
     },
     "execution_count": 4,
     "metadata": {},
     "output_type": "execute_result"
    }
   ],
   "source": [
    "tools=[search_tool]\n",
    "\n",
    "agent=initialize_agent(tools,model,agent=AgentType.STRUCTURED_CHAT_ZERO_SHOT_REACT_DESCRIPTION,verbose=True,return_intermediate_steps=True)\n",
    "\n",
    "agent.invoke(\"What is the weather in Barisal Division\")"
   ]
  },
  {
   "cell_type": "markdown",
   "id": "2eab6a1b",
   "metadata": {},
   "source": [
    "# Make your own Agent"
   ]
  },
  {
   "cell_type": "code",
   "execution_count": 9,
   "id": "e6ebc72f",
   "metadata": {},
   "outputs": [],
   "source": [
    "from langchain import hub\n",
    "\n",
    "prompt = hub.pull(\"hwchase17/react\")  # this is the ReAct agent prompt template"
   ]
  },
  {
   "cell_type": "code",
   "execution_count": 10,
   "id": "1af58578",
   "metadata": {},
   "outputs": [
    {
     "name": "stdout",
     "output_type": "stream",
     "text": [
      "input_variables=['agent_scratchpad', 'input', 'tool_names', 'tools'] input_types={} partial_variables={} metadata={'lc_hub_owner': 'hwchase17', 'lc_hub_repo': 'react', 'lc_hub_commit_hash': 'd15fe3c426f1c4b3f37c9198853e4a86e20c425ca7f4752ec0c9b0e97ca7ea4d'} template='Answer the following questions as best you can. You have access to the following tools:\\n\\n{tools}\\n\\nUse the following format:\\n\\nQuestion: the input question you must answer\\nThought: you should always think about what to do\\nAction: the action to take, should be one of [{tool_names}]\\nAction Input: the input to the action\\nObservation: the result of the action\\n... (this Thought/Action/Action Input/Observation can repeat N times)\\nThought: I now know the final answer\\nFinal Answer: the final answer to the original input question\\n\\nBegin!\\n\\nQuestion: {input}\\nThought:{agent_scratchpad}'\n"
     ]
    }
   ],
   "source": [
    "print(prompt)"
   ]
  },
  {
   "cell_type": "code",
   "execution_count": 11,
   "id": "4eabb5db",
   "metadata": {},
   "outputs": [],
   "source": [
    "from langchain.agents import create_react_agent,AgentExecutor\n",
    "from langchain.tools import Tool\n",
    "from langsmith import Client, wrappers\n",
    "from dotenv import load_dotenv\n",
    "load_dotenv()\n",
    "\n",
    "\n",
    "def add_exclamation(query: str) -> str:\n",
    "    return query + \"!!!\"\n",
    "\n",
    "exclaim_tool = Tool(\n",
    "    name=\"Exclaim\",\n",
    "    description=\"Make any phrase exciting by appending exclamation points. Input is a plain string.\",\n",
    "    func=add_exclamation,\n",
    ")\n",
    "\n",
    "\n",
    "from langchain_ollama import ChatOllama\n",
    "\n",
    "llm = ChatOllama(model=\"gemma3:4b\",temperature=.4)\n",
    "\n"
   ]
  },
  {
   "cell_type": "code",
   "execution_count": 12,
   "id": "57d41a85",
   "metadata": {},
   "outputs": [
    {
     "name": "stdout",
     "output_type": "stream",
     "text": [
      "\n",
      "\n",
      "\u001b[1m> Entering new AgentExecutor chain...\u001b[0m\n",
      "\u001b[32;1m\u001b[1;3mThought: The question asks me to make the phrase 'hello NOOBIESS' exciting by adding exclamation points.\n",
      "Action: Exclaim\n",
      "Action Input: hello NOOBIESS\u001b[0m\u001b[36;1m\u001b[1;3mhello NOOBIESS!!!\u001b[0m\u001b[32;1m\u001b[1;3mThought: I have successfully added exclamation points to the phrase.\n",
      "Final Answer: hello NOOBIESS!!!\u001b[0m\n",
      "\n",
      "\u001b[1m> Finished chain.\u001b[0m\n",
      "hello NOOBIESS!!!\n"
     ]
    }
   ],
   "source": [
    "tools=[exclaim_tool]\n",
    "\n",
    "prompt = hub.pull(\"hwchase17/react\")  # this is the ReAct agent prompt template\n",
    "\n",
    "# 4. Create the ReAct agent\n",
    "agent = create_react_agent(llm=llm, tools=tools, prompt=prompt)\n",
    "\n",
    "# 5. Wrap in an executor to run it\n",
    "agent_executor = AgentExecutor(agent=agent, tools=tools, verbose=True,handle_parsing_errors=True, max_iterations=3,)\n",
    "\n",
    "result = agent_executor.invoke({\"input\": \"Take the phrase 'hello NOOBIESS' and make it exciting\"})\n",
    "print(result[\"output\"])\n"
   ]
  },
  {
   "cell_type": "code",
   "execution_count": null,
   "id": "87c25345",
   "metadata": {},
   "outputs": [
    {
     "name": "stdout",
     "output_type": "stream",
     "text": [
      "Tracing: true\n",
      "Project: test\n",
      "API Key starts with: lsv2\n"
     ]
    }
   ],
   "source": [
    "from dotenv import load_dotenv\n",
    "load_dotenv()\n",
    "\n",
    "import os\n",
    "print(\"Tracing:\", os.getenv(\"LANGSMITH_TRACING\"))\n",
    "print(\"Project:\", os.getenv(\"LANGSMITH_PROJECT\"))\n",
    "print(\"API Key starts with:\", os.getenv(\"LANGSMITH_API_KEY\")[:4])\n"
   ]
  },
  {
   "cell_type": "code",
   "execution_count": 7,
   "id": "bc954413",
   "metadata": {},
   "outputs": [
    {
     "data": {
      "text/plain": [
       "AIMessage(content='I’m doing well, thank you for asking! As a large language model, I don’t really *feel* in the way humans do, but my systems are running smoothly and I’m ready to chat. 😊 \\n\\nHow are *you* doing today? Is there anything you’d like to talk about or anything I can help you with?', additional_kwargs={}, response_metadata={'model': 'gemma3:4b', 'created_at': '2025-09-01T13:51:51.0665652Z', 'done': True, 'done_reason': 'stop', 'total_duration': 11411776900, 'load_duration': 4006855500, 'prompt_eval_count': 15, 'prompt_eval_duration': 870248700, 'eval_count': 75, 'eval_duration': 6533037300, 'model_name': 'gemma3:4b'}, id='run--a13f848e-2cfe-4736-addd-0fccff7735e7-0', usage_metadata={'input_tokens': 15, 'output_tokens': 75, 'total_tokens': 90})"
      ]
     },
     "execution_count": 7,
     "metadata": {},
     "output_type": "execute_result"
    }
   ],
   "source": [
    "model=ChatOllama(model=\"gemma3:4b\",temperature=.4)\n",
    "model.invoke(\"Hello, how are you?\")"
   ]
  },
  {
   "cell_type": "code",
   "execution_count": null,
   "id": "b7898e3c",
   "metadata": {},
   "outputs": [],
   "source": []
  }
 ],
 "metadata": {
  "kernelspec": {
   "display_name": "Python 3",
   "language": "python",
   "name": "python3"
  },
  "language_info": {
   "codemirror_mode": {
    "name": "ipython",
    "version": 3
   },
   "file_extension": ".py",
   "mimetype": "text/x-python",
   "name": "python",
   "nbconvert_exporter": "python",
   "pygments_lexer": "ipython3",
   "version": "3.11.8"
  }
 },
 "nbformat": 4,
 "nbformat_minor": 5
}
