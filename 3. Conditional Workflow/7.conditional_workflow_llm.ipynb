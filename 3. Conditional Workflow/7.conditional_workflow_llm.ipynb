{
 "cells": [
  {
   "cell_type": "code",
   "execution_count": 5,
   "id": "93fbf27c",
   "metadata": {},
   "outputs": [
    {
     "data": {
      "text/plain": [
       "True"
      ]
     },
     "execution_count": 5,
     "metadata": {},
     "output_type": "execute_result"
    }
   ],
   "source": [
    "from langgraph.graph import StateGraph,START,END\n",
    "from typing import TypedDict,Literal\n",
    "from pydantic import BaseModel, Field\n",
    "from dotenv import load_dotenv\n",
    "from langchain_groq import ChatGroq\n",
    "load_dotenv()\n"
   ]
  },
  {
   "cell_type": "code",
   "execution_count": 6,
   "id": "2bec87da",
   "metadata": {},
   "outputs": [],
   "source": [
    "model= ChatGroq(\n",
    "model=\"llama-3.3-70b-versatile\",\n",
    "temperature=0.5\n",
    ")"
   ]
  },
  {
   "cell_type": "code",
   "execution_count": 12,
   "id": "ba2702a7",
   "metadata": {},
   "outputs": [],
   "source": [
    "class Review(BaseModel):\n",
    "    sentiment:Literal[\"positive\",\"negative\"]=Field(..., description=\"The sentiment of the review\")\n",
    "\n",
    "class DiagnosisSchema(BaseModel):\n",
    "    issue_type:Literal[\"bug\",\"feature_request\",\"other\"]=Field(..., description=\"The type of issue\")\n",
    "    emotion:Literal[\"happy\",\"sad\",\"angry\"]=Field(..., description=\"The emotion expressed in the review\")\n",
    "    urgency:Literal[\"low\",\"medium\",\"high\"]=Field(..., description=\"The urgency of the issue\")\n"
   ]
  },
  {
   "cell_type": "code",
   "execution_count": 13,
   "id": "9277f4ee",
   "metadata": {},
   "outputs": [],
   "source": [
    "structured_model=model.with_structured_output(Review)\n",
    "structured_model2=model.with_structured_output(DiagnosisSchema)\n",
    "# structured_model.invoke(\"I love this product!\")"
   ]
  },
  {
   "cell_type": "code",
   "execution_count": 14,
   "id": "e9f7c733",
   "metadata": {},
   "outputs": [],
   "source": [
    "class ReviewState(TypedDict):\n",
    "\n",
    "    review:str\n",
    "    sentiment:Literal[\"positive\",\"negative\"]\n",
    "    diagnosis:dict\n",
    "    response:str\n",
    "\n",
    "def get_sentiment(state:ReviewState)->Literal[\"positive\",\"negative\"]:\n",
    "    prompt=f\"For the following review, find out the sentiment: {state['review']}\"\n",
    "    sentiment=structured_model.invoke(prompt).sentiment\n",
    "    return {\"sentiment\":sentiment}\n",
    "\n",
    "#conditional nodes for next steps\n",
    "def next_steps(state:ReviewState)->Literal[\"positive_response\",\"run_diagnosis\"]: \n",
    "    if state[\"sentiment\"]==\"positive\":\n",
    "        return \"positive_response\"\n",
    "    else:\n",
    "        return \"run_diagnosis\"\n",
    "\n",
    "def positive_response(state:ReviewState)->str:\n",
    "    response=model.invoke(f\"Write a warm thanks message for the following review: {state['review']}\")\n",
    "    return {\"response\":response}\n",
    "\n",
    "def run_diagnosis(state:ReviewState)->dict:\n",
    "    prompt=f\"For the following negative review, find out the issue type, emotion and urgency: {state['review']}\"\n",
    "    diagnosis=structured_model2.invoke(prompt)\n",
    "    return {\"diagnosis\":diagnosis.model_dump()}\n",
    "\n",
    "def negative_response(state:ReviewState)->dict:\n",
    "    response=model.invoke(f\"Write a apology response for the following negative review:\\n {state['diagnosis']['issue_type']} - {state['diagnosis']['emotion']} - {state['diagnosis']['urgency']}\")\n",
    "    return {\"response\":response}\n",
    "\n"
   ]
  },
  {
   "cell_type": "code",
   "execution_count": 16,
   "id": "14395917",
   "metadata": {},
   "outputs": [
    {
     "data": {
      "image/png": "[encoded data removed]",
      "text/plain": [
       "<langgraph.graph.state.CompiledStateGraph object at 0x000001EED68BC9D0>"
      ]
     },
     "execution_count": 16,
     "metadata": {},
     "output_type": "execute_result"
    }
   ],
   "source": [
    "graph=StateGraph(ReviewState)\n",
    "graph.add_node(\"get_sentiment\",get_sentiment)\n",
    "graph.add_node(\"positive_response\",positive_response)\n",
    "graph.add_node(\"run_diagnosis\",run_diagnosis)\n",
    "graph.add_node(\"negative_response\",negative_response)\n",
    "\n",
    "\n",
    "graph.add_edge(START,\"get_sentiment\")\n",
    "graph.add_conditional_edges(\"get_sentiment\",next_steps)\n",
    "graph.add_edge(\"positive_response\",END)\n",
    "graph.add_edge(\"run_diagnosis\",\"negative_response\")\n",
    "graph.add_edge(\"negative_response\",END)\n",
    "\n",
    "workflow=graph.compile()\n",
    "workflow"
   ]
  },
  {
   "cell_type": "code",
   "execution_count": 17,
   "id": "f28eb91f",
   "metadata": {},
   "outputs": [],
   "source": [
    "initial_state={\n",
    "    \"review\":\"I absolutely love this product! It arrived on time, works perfectly, and has made my daily routine so much easier. Highly recommended!\"\n",
    "}\n",
    "final_state=workflow.invoke(initial_state)"
   ]
  },
  {
   "cell_type": "code",
   "execution_count": 18,
   "id": "d7492a1f",
   "metadata": {},
   "outputs": [
    {
     "data": {
      "text/plain": [
       "{'review': 'I absolutely love this product! It arrived on time, works perfectly, and has made my daily routine so much easier. Highly recommended!',\n",
       " 'sentiment': 'positive',\n",
       " 'response': AIMessage(content=\"Dear valued customer,\\n\\nWe are absolutely thrilled to hear that you're loving our product! We want to extend our warmest thanks for taking the time to share your wonderful review with us. It's fantastic to know that our product has made a positive impact on your daily routine and that it arrived on time, working perfectly as expected.\\n\\nYour kind words and high recommendation mean the world to us, and we're grateful for customers like you who appreciate our efforts to provide top-notch products and service. We're committed to continuing to deliver exceptional quality and convenience to our customers, and your feedback is invaluable in helping us achieve this goal.\\n\\nOnce again, thank you for your wonderful review and for choosing our product. We're honored to have customers like you and look forward to serving you again in the future.\\n\\nBest regards, [Your Name/Company]\", additional_kwargs={}, response_metadata={'token_usage': {'completion_tokens': 169, 'prompt_tokens': 72, 'total_tokens': 241, 'completion_time': 0.408099076, 'prompt_time': 0.012990898, 'queue_time': 0.043907272, 'total_time': 0.421089974}, 'model_name': 'llama-3.3-70b-versatile', 'system_fingerprint': 'fp_3f3b593e33', 'service_tier': 'on_demand', 'finish_reason': 'stop', 'logprobs': None}, id='run--4bae3505-ee27-4d25-8ba5-4cea556c836c-0', usage_metadata={'input_tokens': 72, 'output_tokens': 169, 'total_tokens': 241})}"
      ]
     },
     "execution_count": 18,
     "metadata": {},
     "output_type": "execute_result"
    }
   ],
   "source": [
    "final_state"
   ]
  },
  {
   "cell_type": "code",
   "execution_count": 19,
   "id": "a460d6be",
   "metadata": {},
   "outputs": [
    {
     "data": {
      "text/plain": [
       "{'review': 'I’m really disappointed — the device stopped working just two days after I bought it, and I need a replacement immediately because I rely on it for work!',\n",
       " 'sentiment': 'negative',\n",
       " 'diagnosis': {'issue_type': 'bug', 'emotion': 'sad', 'urgency': 'high'},\n",
       " 'response': AIMessage(content='Here\\'s a potential apology response:\\n\\n\"Dear valued customer,\\n\\nWe\\'re deeply sorry to hear that your experience with us was disappointing. It sounds like we fell short of meeting your expectations, and for that, we apologize. We take all feedback seriously and would like to make things right.\\n\\nCould you please provide more details about the issue you encountered, such as what specifically went wrong and how we can improve? Your input is invaluable in helping us identify areas where we need to grow.\\n\\nWe\\'re committed to providing a better experience for all our customers, and we appreciate your feedback in helping us get there. If there\\'s anything we can do to make up for the disappointment, please don\\'t hesitate to let us know.\\n\\nThank you for taking the time to share your concerns, and we look forward to the opportunity to serve you better in the future.\\n\\nSincerely, [Your Name]\"', additional_kwargs={}, response_metadata={'token_usage': {'completion_tokens': 177, 'prompt_tokens': 50, 'total_tokens': 227, 'completion_time': 0.450609586, 'prompt_time': 0.011278323, 'queue_time': 0.046079687, 'total_time': 0.461887909}, 'model_name': 'llama-3.3-70b-versatile', 'system_fingerprint': 'fp_2ddfbb0da0', 'service_tier': 'on_demand', 'finish_reason': 'stop', 'logprobs': None}, id='run--248ac1b5-65a1-42a7-8014-474937b47a29-0', usage_metadata={'input_tokens': 50, 'output_tokens': 177, 'total_tokens': 227})}"
      ]
     },
     "execution_count": 19,
     "metadata": {},
     "output_type": "execute_result"
    }
   ],
   "source": [
    "initial_state={\n",
    "    \"review\":\"I’m really disappointed — the device stopped working just two days after I bought it, and I need a replacement immediately because I rely on it for work!\"\n",
    "}\n",
    "final_state=workflow.invoke(initial_state)\n",
    "final_state"
   ]
  },
  {
   "cell_type": "code",
   "execution_count": null,
   "id": "0be8c584",
   "metadata": {},
   "outputs": [],
   "source": []
  }
 ],
 "metadata": {
  "kernelspec": {
   "display_name": "Python 3",
   "language": "python",
   "name": "python3"
  },
  "language_info": {
   "codemirror_mode": {
    "name": "ipython",
    "version": 3
   },
   "file_extension": ".py",
   "mimetype": "text/x-python",
   "name": "python",
   "nbconvert_exporter": "python",
   "pygments_lexer": "ipython3",
   "version": "3.11.8"
  }
 },
 "nbformat": 4,
 "nbformat_minor": 5
}
