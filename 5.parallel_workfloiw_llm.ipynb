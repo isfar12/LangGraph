{
 "cells": [
  {
   "cell_type": "code",
   "execution_count": null,
   "id": "172a3dbe",
   "metadata": {},
   "outputs": [
    {
     "data": {
      "text/plain": [
       "True"
      ]
     },
     "execution_count": 2,
     "metadata": {},
     "output_type": "execute_result"
    }
   ],
   "source": [
    "from langgraph.graph import StateGraph,START,END\n",
    "from langchain_groq import ChatGroq\n",
    "from typing import TypedDict,List,Annotated\n",
    "from pydantic import BaseModel,Field\n",
    "from dotenv import load_dotenv\n",
    "\n",
    "load_dotenv()"
   ]
  },
  {
   "cell_type": "code",
   "execution_count": 5,
   "id": "a8c0e923",
   "metadata": {},
   "outputs": [],
   "source": [
    "model= ChatGroq(\n",
    "model=\"llama-3.3-70b-versatile\",\n",
    "temperature=0.5\n",
    ")"
   ]
  },
  {
   "cell_type": "code",
   "execution_count": 18,
   "id": "39a2b2e7",
   "metadata": {},
   "outputs": [],
   "source": [
    "class EvaluationSchema(BaseModel):\n",
    "    feedback:str =Field(description=\"A detailed feedback on the paragraph\")\n",
    "    score:int =Field(description=\"A score from 1 to 10\",gt=0,le=10)"
   ]
  },
  {
   "cell_type": "code",
   "execution_count": 24,
   "id": "b70280cc",
   "metadata": {},
   "outputs": [],
   "source": [
    "structured_model=model.with_structured_output(EvaluationSchema)"
   ]
  },
  {
   "cell_type": "code",
   "execution_count": 45,
   "id": "191273da",
   "metadata": {},
   "outputs": [],
   "source": [
    "import operator\n",
    "class EssayEvalState(TypedDict):\n",
    "    paragraphs:str\n",
    "    writing_style:str\n",
    "    language:str\n",
    "    overall:str\n",
    "    individual_score:Annotated[list[int],operator.add] # keep adding the scores of different parameters into individual variable \n",
    "    avg_score:float\n",
    "\n",
    "\n",
    "def evaluate_writing(state:EssayEvalState):\n",
    "    prompt=f\"Evaluate the writing quality of the following essay and provide feedback and assign a score \\n {state['paragraphs']}\"\n",
    "    output=structured_model.invoke(prompt)\n",
    "\n",
    "    return {\"writing_style\":output.feedback,\"individual_score\":[output.score]}\n",
    "\n",
    "\n",
    "def evaluate_language(state:EssayEvalState):\n",
    "    prompt=f\"Evaluate the language quality of the following essay and provide feedback and assign a score \\n {state['paragraphs']}\"\n",
    "    output=structured_model.invoke(prompt)\n",
    "\n",
    "    return {\"language\":output.feedback,\"individual_score\":[output.score]}\n",
    "\n",
    "def overall_evaluate(state:EssayEvalState):\n",
    "    prompt=f\"Based on the following 2 feedbacks, write a summarized feedback \\n language_feedback:{state['language']}\\n writing_feedback:{state['writing_style']}\"\n",
    "    overall_result=model.invoke(prompt).content # we are using regular model here, not structured output\n",
    "\n",
    "    avg_score=sum(state['individual_score'])/len(state['individual_score']+[1])# to avoid division by zero\n",
    "\n",
    "    return {\"overall\":overall_result,\"avg_score\":avg_score}"
   ]
  },
  {
   "cell_type": "code",
   "execution_count": 46,
   "id": "0fbe22ec",
   "metadata": {},
   "outputs": [
    {
     "data": {
      "text/plain": [
       "<langgraph.graph.state.StateGraph at 0x1500dc81250>"
      ]
     },
     "execution_count": 46,
     "metadata": {},
     "output_type": "execute_result"
    }
   ],
   "source": [
    "graph=StateGraph(EssayEvalState)\n",
    "\n",
    "graph.add_node(\"evaluate_writing\",evaluate_writing)\n",
    "graph.add_node(\"evaluate_language\",evaluate_language)\n",
    "graph.add_node(\"overall_evaluate\",overall_evaluate)\n",
    "\n",
    "\n",
    "graph.add_edge(START,\"evaluate_writing\")\n",
    "graph.add_edge(START,\"evaluate_language\")\n",
    "\n",
    "graph.add_edge(\"evaluate_writing\",\"overall_evaluate\")\n",
    "graph.add_edge(\"evaluate_language\",\"overall_evaluate\")\n",
    "\n",
    "graph.add_edge(\"overall_evaluate\",END)"
   ]
  },
  {
   "cell_type": "code",
   "execution_count": 47,
   "id": "977e84b0",
   "metadata": {},
   "outputs": [
    {
     "data": {
      "image/png": "[encoded data removed]",
      "text/plain": [
       "<langgraph.graph.state.CompiledStateGraph object at 0x000001500DD898D0>"
      ]
     },
     "execution_count": 47,
     "metadata": {},
     "output_type": "execute_result"
    }
   ],
   "source": [
    "workflow=graph.compile()\n",
    "workflow"
   ]
  },
  {
   "cell_type": "code",
   "execution_count": 48,
   "id": "eeec18d6",
   "metadata": {},
   "outputs": [],
   "source": [
    "paragraph=\"\"\"The quiet morning air carried a hint of fresh rain as the sun slowly began to rise, casting a golden glow across the landscape. Birds chirped in the trees, welcoming the new day with their cheerful songs. It was one of those moments where everything seemed to stand still—time paused just long enough to appreciate the simple beauty of the world around us. The earth, still damp from the previous night’s rain, had a fresh scent that filled the air, and for a brief moment, all felt right.\"\"\"\n"
   ]
  },
  {
   "cell_type": "code",
   "execution_count": 49,
   "id": "023009f4",
   "metadata": {},
   "outputs": [
    {
     "data": {
      "text/plain": [
       "{'paragraphs': 'The quiet morning air carried a hint of fresh rain as the sun slowly began to rise, casting a golden glow across the landscape. Birds chirped in the trees, welcoming the new day with their cheerful songs. It was one of those moments where everything seemed to stand still—time paused just long enough to appreciate the simple beauty of the world around us. The earth, still damp from the previous night’s rain, had a fresh scent that filled the air, and for a brief moment, all felt right.',\n",
       " 'writing_style': \"The essay has a serene and peaceful tone, effectively using sensory details to describe the scene. The use of phrases such as 'hint of fresh rain', 'golden glow', and 'fresh scent' creates a vivid image in the reader's mind. The writing is descriptive and engaging, making the reader feel like they are experiencing the moment alongside the author. However, the essay is quite short and lacks a clear structure or deeper meaning. The author could explore the significance of the moment or the emotions it evokes to add more depth to the writing. Overall, the writing quality is good, but it has the potential to be even stronger with further development.\",\n",
       " 'language': \"The essay has a serene and peaceful tone, effectively using sensory details to describe the scene. The use of words like 'golden glow', 'cheerful songs', and 'fresh scent' creates vivid imagery. The phrase 'time paused just long enough to appreciate the simple beauty of the world around us' is particularly effective in conveying a sense of stillness and wonder. However, the essay is quite short and lacks a clear structure or narrative thread. The writing is descriptive, but it doesn't necessarily tell a story or convey a specific message. To improve, consider adding more depth or complexity to the essay, and experimenting with different sentence structures to create more variety.\",\n",
       " 'overall': 'Here is a summarized feedback:\\n\\nThe essay effectively creates a serene and peaceful tone, using vivid sensory details such as \"golden glow\", \"fresh scent\", and \"cheerful songs\" to describe the scene. The descriptive writing engages the reader and makes them feel like they are experiencing the moment alongside the author. However, the essay is quite short and lacks a clear structure, narrative thread, and deeper meaning. To improve, consider adding more depth and complexity to the essay by exploring the significance of the moment, the emotions it evokes, and experimenting with different sentence structures to create more variety. With further development, the writing has the potential to be even stronger.',\n",
       " 'individual_score': [8, 8],\n",
       " 'avg_score': 5.333333333333333}"
      ]
     },
     "execution_count": 49,
     "metadata": {},
     "output_type": "execute_result"
    }
   ],
   "source": [
    "initial_state={\n",
    "    \"paragraphs\":paragraph\n",
    "}\n",
    "\n",
    "workflow.invoke(initial_state)"
   ]
  }
 ],
 "metadata": {
  "kernelspec": {
   "display_name": "Python 3",
   "language": "python",
   "name": "python3"
  },
  "language_info": {
   "codemirror_mode": {
    "name": "ipython",
    "version": 3
   },
   "file_extension": ".py",
   "mimetype": "text/x-python",
   "name": "python",
   "nbconvert_exporter": "python",
   "pygments_lexer": "ipython3",
   "version": "3.11.8"
  }
 },
 "nbformat": 4,
 "nbformat_minor": 5
}
