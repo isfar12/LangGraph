{
 "cells": [
  {
   "cell_type": "code",
   "execution_count": 10,
   "id": "4b9fa243",
   "metadata": {},
   "outputs": [
    {
     "data": {
      "text/plain": [
       "True"
      ]
     },
     "execution_count": 10,
     "metadata": {},
     "output_type": "execute_result"
    }
   ],
   "source": [
    "from langgraph.graph import StateGraph,START,END\n",
    "from typing import TypedDict,Annotated\n",
    "from langchain_groq import ChatGroq\n",
    "from langchain_core.messages import BaseMessage,HumanMessage\n",
    "from dotenv import load_dotenv\n",
    "load_dotenv()\n"
   ]
  },
  {
   "cell_type": "code",
   "execution_count": 11,
   "id": "6da46f80",
   "metadata": {},
   "outputs": [],
   "source": [
    "model= ChatGroq(\n",
    "model=\"llama-3.3-70b-versatile\",\n",
    "temperature=0.5\n",
    ")"
   ]
  },
  {
   "cell_type": "code",
   "execution_count": 12,
   "id": "479cf704",
   "metadata": {},
   "outputs": [],
   "source": [
    "from langgraph.graph.message import add_messages\n",
    "\n",
    "class ChatState(TypedDict):\n",
    "\n",
    "    messages:Annotated[list[BaseMessage],add_messages]\n",
    "\n",
    "\n",
    "def chat(state: ChatState):\n",
    "    messages=state[\"messages\"]\n",
    "    response=model.invoke(messages)\n",
    "    return {\"messages\":[response]}"
   ]
  },
  {
   "cell_type": "code",
   "execution_count": 13,
   "id": "7d880e0f",
   "metadata": {},
   "outputs": [],
   "source": [
    "from langgraph.checkpoint.memory import MemorySaver\n",
    "\n",
    "checkpoint=MemorySaver() # THIS SAVES CHAT IN MEMORY FOR THE TIME BEING\n",
    "\n",
    "graph=StateGraph(ChatState)\n",
    "\n",
    "graph.add_node(\"chat\",chat)\n",
    "\n",
    "graph.add_edge(START,\"chat\")\n",
    "\n",
    "workflow=graph.compile(checkpointer=checkpoint) # we are compiling the workflow with a checkpoint"
   ]
  },
  {
   "cell_type": "code",
   "execution_count": 14,
   "id": "5d8a14a3",
   "metadata": {},
   "outputs": [
    {
     "data": {
      "image/png": "[encoded data removed]",
      "text/plain": [
       "<langgraph.graph.state.CompiledStateGraph object at 0x0000018EF42492D0>"
      ]
     },
     "execution_count": 14,
     "metadata": {},
     "output_type": "execute_result"
    }
   ],
   "source": [
    "workflow"
   ]
  },
  {
   "cell_type": "code",
   "execution_count": 15,
   "id": "5202a1e4",
   "metadata": {},
   "outputs": [
    {
     "name": "stdout",
     "output_type": "stream",
     "text": [
      "User:  Hello I am Isfar\n",
      "Bot:  Hello Isfar, it's nice to meet you. Is there something I can help you with or would you like to chat?\n",
      "User:  What is my name?\n",
      "Bot:  Your name is Isfar.\n",
      "User:  exit\n"
     ]
    }
   ],
   "source": [
    "thread_id=\"1\"\n",
    "\n",
    "while True:\n",
    "\n",
    "    user_message=input(\"You: \")\n",
    "    print(\"User: \",user_message)\n",
    "\n",
    "    if user_message.lower() == \"exit\":\n",
    "        break\n",
    "    initial_state={\n",
    "        \"messages\":[HumanMessage(content=user_message)]\n",
    "    }\n",
    "    config={\n",
    "        \"configurable\":{\"thread_id\":thread_id}\n",
    "    } # without thread you get this ValueError: Checkpointer requires one or more of the following 'configurable' keys: thread_id, checkpoint_ns, checkpoint_id\n",
    "    llm_message=workflow.invoke(initial_state, config=config)\n",
    "    print(\"Bot: \",llm_message[\"messages\"][-1].content)"
   ]
  },
  {
   "cell_type": "code",
   "execution_count": 16,
   "id": "72407095",
   "metadata": {},
   "outputs": [
    {
     "data": {
      "text/plain": [
       "{'messages': [HumanMessage(content='Hello I am Isfar', additional_kwargs={}, response_metadata={}, id='d1613688-4311-48a9-82fa-81a6e6d86e51'),\n",
       "  AIMessage(content=\"Hello Isfar, it's nice to meet you. Is there something I can help you with or would you like to chat?\", additional_kwargs={}, response_metadata={'token_usage': {'completion_tokens': 27, 'prompt_tokens': 40, 'total_tokens': 67, 'completion_time': 0.041827892, 'prompt_time': 0.010532524, 'queue_time': 0.048132866, 'total_time': 0.052360416}, 'model_name': 'llama-3.3-70b-versatile', 'system_fingerprint': 'fp_3f3b593e33', 'service_tier': 'on_demand', 'finish_reason': 'stop', 'logprobs': None}, id='run--da974aed-a9db-4664-885d-c4f2b99f4711-0', usage_metadata={'input_tokens': 40, 'output_tokens': 27, 'total_tokens': 67}),\n",
       "  HumanMessage(content='What is my name?', additional_kwargs={}, response_metadata={}, id='c0aa792a-b226-414b-938e-6dec0431082b'),\n",
       "  AIMessage(content='Your name is Isfar.', additional_kwargs={}, response_metadata={'token_usage': {'completion_tokens': 7, 'prompt_tokens': 81, 'total_tokens': 88, 'completion_time': 0.008979919, 'prompt_time': 0.014179037, 'queue_time': 0.047579313, 'total_time': 0.023158956}, 'model_name': 'llama-3.3-70b-versatile', 'system_fingerprint': 'fp_3f3b593e33', 'service_tier': 'on_demand', 'finish_reason': 'stop', 'logprobs': None}, id='run--961aac1d-54db-49ac-8c9c-41f72850aa0e-0', usage_metadata={'input_tokens': 81, 'output_tokens': 7, 'total_tokens': 88})]}"
      ]
     },
     "execution_count": 16,
     "metadata": {},
     "output_type": "execute_result"
    }
   ],
   "source": [
    "llm_message"
   ]
  },
  {
   "cell_type": "code",
   "execution_count": 18,
   "id": "73b09328",
   "metadata": {},
   "outputs": [
    {
     "data": {
      "text/plain": [
       "StateSnapshot(values={'messages': [HumanMessage(content='Hello I am Isfar', additional_kwargs={}, response_metadata={}, id='d1613688-4311-48a9-82fa-81a6e6d86e51'), AIMessage(content=\"Hello Isfar, it's nice to meet you. Is there something I can help you with or would you like to chat?\", additional_kwargs={}, response_metadata={'token_usage': {'completion_tokens': 27, 'prompt_tokens': 40, 'total_tokens': 67, 'completion_time': 0.041827892, 'prompt_time': 0.010532524, 'queue_time': 0.048132866, 'total_time': 0.052360416}, 'model_name': 'llama-3.3-70b-versatile', 'system_fingerprint': 'fp_3f3b593e33', 'service_tier': 'on_demand', 'finish_reason': 'stop', 'logprobs': None}, id='run--da974aed-a9db-4664-885d-c4f2b99f4711-0', usage_metadata={'input_tokens': 40, 'output_tokens': 27, 'total_tokens': 67}), HumanMessage(content='What is my name?', additional_kwargs={}, response_metadata={}, id='c0aa792a-b226-414b-938e-6dec0431082b'), AIMessage(content='Your name is Isfar.', additional_kwargs={}, response_metadata={'token_usage': {'completion_tokens': 7, 'prompt_tokens': 81, 'total_tokens': 88, 'completion_time': 0.008979919, 'prompt_time': 0.014179037, 'queue_time': 0.047579313, 'total_time': 0.023158956}, 'model_name': 'llama-3.3-70b-versatile', 'system_fingerprint': 'fp_3f3b593e33', 'service_tier': 'on_demand', 'finish_reason': 'stop', 'logprobs': None}, id='run--961aac1d-54db-49ac-8c9c-41f72850aa0e-0', usage_metadata={'input_tokens': 81, 'output_tokens': 7, 'total_tokens': 88})]}, next=(), config={'configurable': {'thread_id': '1', 'checkpoint_ns': '', 'checkpoint_id': '1f084974-013e-6ed4-8004-1730e5e5ebaa'}}, metadata={'source': 'loop', 'step': 4, 'parents': {}}, created_at='2025-08-29T05:15:59.846165+00:00', parent_config={'configurable': {'thread_id': '1', 'checkpoint_ns': '', 'checkpoint_id': '1f084973-fee9-6b08-8003-a3814e57db10'}}, tasks=(), interrupts=())"
      ]
     },
     "execution_count": 18,
     "metadata": {},
     "output_type": "execute_result"
    }
   ],
   "source": [
    "workflow.get_state(config=config)"
   ]
  },
  {
   "cell_type": "code",
   "execution_count": null,
   "id": "ea2686b4",
   "metadata": {},
   "outputs": [],
   "source": []
  }
 ],
 "metadata": {
  "kernelspec": {
   "display_name": "Python 3",
   "language": "python",
   "name": "python3"
  },
  "language_info": {
   "codemirror_mode": {
    "name": "ipython",
    "version": 3
   },
   "file_extension": ".py",
   "mimetype": "text/x-python",
   "name": "python",
   "nbconvert_exporter": "python",
   "pygments_lexer": "ipython3",
   "version": "3.11.8"
  }
 },
 "nbformat": 4,
 "nbformat_minor": 5
}
