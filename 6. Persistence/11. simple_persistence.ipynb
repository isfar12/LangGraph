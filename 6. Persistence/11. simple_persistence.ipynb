{
 "cells": [
  {
   "cell_type": "code",
   "execution_count": 1,
   "id": "c5c37a0e",
   "metadata": {},
   "outputs": [
    {
     "data": {
      "text/plain": [
       "True"
      ]
     },
     "execution_count": 1,
     "metadata": {},
     "output_type": "execute_result"
    }
   ],
   "source": [
    "from langgraph.graph import StateGraph,START,END\n",
    "from langgraph.checkpoint.memory import InMemorySaver\n",
    "from typing import TypedDict\n",
    "from dotenv import load_dotenv\n",
    "load_dotenv()"
   ]
  },
  {
   "cell_type": "code",
   "execution_count": 2,
   "id": "ef39b562",
   "metadata": {},
   "outputs": [],
   "source": [
    "from langchain_groq import ChatGroq\n",
    "\n",
    "model= ChatGroq(\n",
    "model=\"llama-3.3-70b-versatile\",\n",
    "temperature=0.5\n",
    ")\n"
   ]
  },
  {
   "cell_type": "code",
   "execution_count": 14,
   "id": "7d953c64",
   "metadata": {},
   "outputs": [],
   "source": [
    "class JokeState(TypedDict):\n",
    "    topic:str\n",
    "    joke:str\n",
    "    explanation:str\n",
    "\n",
    "\n",
    "def generate_joke(state: JokeState):\n",
    "    prompt=f\"Generate a joke about the topic {state['topic']}\"\n",
    "    joke=model.invoke(prompt).content\n",
    "    return {\"joke\": joke}\n",
    "\n",
    "def explain_joke(state: JokeState):\n",
    "    prompt=f\"Explain the joke about the topic {state['topic']}: {state['joke']}\"\n",
    "    explanation=model.invoke(prompt).content\n",
    "    return {\"explanation\": explanation}"
   ]
  },
  {
   "cell_type": "code",
   "execution_count": null,
   "id": "83448b3f",
   "metadata": {},
   "outputs": [],
   "source": [
    "graph=StateGraph(JokeState)\n",
    "checkpoint=InMemorySaver()\n",
    "\n",
    "graph.add_node(\"generate_joke\", generate_joke)\n",
    "graph.add_node(\"explain_joke\", explain_joke)\n",
    "\n",
    "graph.add_edge(START, \"generate_joke\")\n",
    "graph.add_edge(\"generate_joke\", \"explain_joke\")\n",
    "graph.add_edge(\"explain_joke\", END)\n",
    "\n",
    "workflow=graph.compile(checkpointer=checkpoint)"
   ]
  },
  {
   "cell_type": "code",
   "execution_count": 16,
   "id": "1c222fd8",
   "metadata": {},
   "outputs": [
    {
     "data": {
      "image/png": "[encoded data removed]",
      "text/plain": [
       "<langgraph.graph.state.CompiledStateGraph object at 0x000001DFFA4663D0>"
      ]
     },
     "execution_count": 16,
     "metadata": {},
     "output_type": "execute_result"
    }
   ],
   "source": [
    "workflow"
   ]
  },
  {
   "cell_type": "code",
   "execution_count": 17,
   "id": "996b5509",
   "metadata": {},
   "outputs": [
    {
     "data": {
      "text/plain": [
       "{'topic': 'chickens crossing the road',\n",
       " 'joke': 'Why did the chicken cross the road?\\n\\nTo get away from the farmer\\'s constant \"egg-pectations\"! (get it?)',\n",
       " 'explanation': 'A classic play on words. The joke is funny because it\\'s a pun on the phrase \"expectations\" and \"egg-pectations.\" The word \"egg\" is a clever substitution because chickens are known for laying eggs, so it\\'s a clever connection to make.\\n\\nThe joke is saying that the chicken crossed the road to escape the farmer\\'s high \"egg-pectations,\" implying that the farmer is putting pressure on the chicken to produce a lot of eggs. It\\'s a lighthearted and humorous way to poke fun at the idea of chickens being under pressure to perform.\\n\\nThe use of wordplay like this creates a sense of surprise and delight, which is what makes the joke amusing. It\\'s a clever and creative way to subvert the usual expectation of a straightforward answer to the question \"Why did the chicken cross the road?\" and instead offers a humorous and unexpected twist.'}"
      ]
     },
     "execution_count": 17,
     "metadata": {},
     "output_type": "execute_result"
    }
   ],
   "source": [
    "config1={\n",
    "    \"configurable\":{\"thread_id\":\"1\"}\n",
    "}\n",
    "\n",
    "workflow.invoke({\"topic\":\"chickens crossing the road\"},config=config1)"
   ]
  },
  {
   "cell_type": "code",
   "execution_count": 18,
   "id": "1a167ed8",
   "metadata": {},
   "outputs": [
    {
     "data": {
      "text/plain": [
       "StateSnapshot(values={'topic': 'chickens crossing the road', 'joke': 'Why did the chicken cross the road?\\n\\nTo get away from the farmer\\'s constant \"egg-pectations\"! (get it?)', 'explanation': 'A classic play on words. The joke is funny because it\\'s a pun on the phrase \"expectations\" and \"egg-pectations.\" The word \"egg\" is a clever substitution because chickens are known for laying eggs, so it\\'s a clever connection to make.\\n\\nThe joke is saying that the chicken crossed the road to escape the farmer\\'s high \"egg-pectations,\" implying that the farmer is putting pressure on the chicken to produce a lot of eggs. It\\'s a lighthearted and humorous way to poke fun at the idea of chickens being under pressure to perform.\\n\\nThe use of wordplay like this creates a sense of surprise and delight, which is what makes the joke amusing. It\\'s a clever and creative way to subvert the usual expectation of a straightforward answer to the question \"Why did the chicken cross the road?\" and instead offers a humorous and unexpected twist.'}, next=(), config={'configurable': {'thread_id': '1', 'checkpoint_ns': '', 'checkpoint_id': '1f0856b4-b11d-66e3-8002-48c57c3ea8b4'}}, metadata={'source': 'loop', 'step': 2, 'parents': {}}, created_at='2025-08-30T06:33:51.594057+00:00', parent_config={'configurable': {'thread_id': '1', 'checkpoint_ns': '', 'checkpoint_id': '1f0856b4-aa18-6920-8001-f25ec1cac14a'}}, tasks=(), interrupts=())"
      ]
     },
     "execution_count": 18,
     "metadata": {},
     "output_type": "execute_result"
    }
   ],
   "source": [
    "workflow.get_state(config=config1)"
   ]
  },
  {
   "cell_type": "code",
   "execution_count": 19,
   "id": "86fed362",
   "metadata": {},
   "outputs": [
    {
     "data": {
      "text/plain": [
       "[StateSnapshot(values={'topic': 'chickens crossing the road', 'joke': 'Why did the chicken cross the road?\\n\\nTo get away from the farmer\\'s constant \"egg-pectations\"! (get it?)', 'explanation': 'A classic play on words. The joke is funny because it\\'s a pun on the phrase \"expectations\" and \"egg-pectations.\" The word \"egg\" is a clever substitution because chickens are known for laying eggs, so it\\'s a clever connection to make.\\n\\nThe joke is saying that the chicken crossed the road to escape the farmer\\'s high \"egg-pectations,\" implying that the farmer is putting pressure on the chicken to produce a lot of eggs. It\\'s a lighthearted and humorous way to poke fun at the idea of chickens being under pressure to perform.\\n\\nThe use of wordplay like this creates a sense of surprise and delight, which is what makes the joke amusing. It\\'s a clever and creative way to subvert the usual expectation of a straightforward answer to the question \"Why did the chicken cross the road?\" and instead offers a humorous and unexpected twist.'}, next=(), config={'configurable': {'thread_id': '1', 'checkpoint_ns': '', 'checkpoint_id': '1f0856b4-b11d-66e3-8002-48c57c3ea8b4'}}, metadata={'source': 'loop', 'step': 2, 'parents': {}}, created_at='2025-08-30T06:33:51.594057+00:00', parent_config={'configurable': {'thread_id': '1', 'checkpoint_ns': '', 'checkpoint_id': '1f0856b4-aa18-6920-8001-f25ec1cac14a'}}, tasks=(), interrupts=()),\n",
       " StateSnapshot(values={'topic': 'chickens crossing the road', 'joke': 'Why did the chicken cross the road?\\n\\nTo get away from the farmer\\'s constant \"egg-pectations\"! (get it?)'}, next=('explain_joke',), config={'configurable': {'thread_id': '1', 'checkpoint_ns': '', 'checkpoint_id': '1f0856b4-aa18-6920-8001-f25ec1cac14a'}}, metadata={'source': 'loop', 'step': 1, 'parents': {}}, created_at='2025-08-30T06:33:50.858064+00:00', parent_config={'configurable': {'thread_id': '1', 'checkpoint_ns': '', 'checkpoint_id': '1f0856b4-a594-6e9d-8000-2e45a4bca4cf'}}, tasks=(PregelTask(id='ffc22a9a-5d13-eabd-a754-47392fdc9b0f', name='explain_joke', path=('__pregel_pull', 'explain_joke'), error=None, interrupts=(), state=None, result={'explanation': 'A classic play on words. The joke is funny because it\\'s a pun on the phrase \"expectations\" and \"egg-pectations.\" The word \"egg\" is a clever substitution because chickens are known for laying eggs, so it\\'s a clever connection to make.\\n\\nThe joke is saying that the chicken crossed the road to escape the farmer\\'s high \"egg-pectations,\" implying that the farmer is putting pressure on the chicken to produce a lot of eggs. It\\'s a lighthearted and humorous way to poke fun at the idea of chickens being under pressure to perform.\\n\\nThe use of wordplay like this creates a sense of surprise and delight, which is what makes the joke amusing. It\\'s a clever and creative way to subvert the usual expectation of a straightforward answer to the question \"Why did the chicken cross the road?\" and instead offers a humorous and unexpected twist.'}),), interrupts=()),\n",
       " StateSnapshot(values={'topic': 'chickens crossing the road'}, next=('generate_joke',), config={'configurable': {'thread_id': '1', 'checkpoint_ns': '', 'checkpoint_id': '1f0856b4-a594-6e9d-8000-2e45a4bca4cf'}}, metadata={'source': 'loop', 'step': 0, 'parents': {}}, created_at='2025-08-30T06:33:50.384706+00:00', parent_config={'configurable': {'thread_id': '1', 'checkpoint_ns': '', 'checkpoint_id': '1f0856b4-a590-6074-bfff-ef54f7588a04'}}, tasks=(PregelTask(id='b710c6eb-509d-957f-c816-112648fe29dc', name='generate_joke', path=('__pregel_pull', 'generate_joke'), error=None, interrupts=(), state=None, result={'joke': 'Why did the chicken cross the road?\\n\\nTo get away from the farmer\\'s constant \"egg-pectations\"! (get it?)'}),), interrupts=()),\n",
       " StateSnapshot(values={}, next=('__start__',), config={'configurable': {'thread_id': '1', 'checkpoint_ns': '', 'checkpoint_id': '1f0856b4-a590-6074-bfff-ef54f7588a04'}}, metadata={'source': 'input', 'step': -1, 'parents': {}}, created_at='2025-08-30T06:33:50.382705+00:00', parent_config=None, tasks=(PregelTask(id='63cc6ce9-da59-8cf9-256a-83094f5fdf2f', name='__start__', path=('__pregel_pull', '__start__'), error=None, interrupts=(), state=None, result={'topic': 'chickens crossing the road'}),), interrupts=())]"
      ]
     },
     "execution_count": 19,
     "metadata": {},
     "output_type": "execute_result"
    }
   ],
   "source": [
    "list(workflow.get_state_history(config=config1))"
   ]
  },
  {
   "cell_type": "code",
   "execution_count": null,
   "id": "ecf91e01",
   "metadata": {},
   "outputs": [],
   "source": []
  }
 ],
 "metadata": {
  "kernelspec": {
   "display_name": "Python 3",
   "language": "python",
   "name": "python3"
  },
  "language_info": {
   "codemirror_mode": {
    "name": "ipython",
    "version": 3
   },
   "file_extension": ".py",
   "mimetype": "text/x-python",
   "name": "python",
   "nbconvert_exporter": "python",
   "pygments_lexer": "ipython3",
   "version": "3.11.8"
  }
 },
 "nbformat": 4,
 "nbformat_minor": 5
}
