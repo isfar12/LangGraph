{
 "cells": [
  {
   "cell_type": "code",
   "execution_count": 3,
   "id": "9a0f1f55",
   "metadata": {},
   "outputs": [
    {
     "data": {
      "text/plain": [
       "True"
      ]
     },
     "execution_count": 3,
     "metadata": {},
     "output_type": "execute_result"
    }
   ],
   "source": [
    "from langgraph.graph import StateGraph,START,END\n",
    "from langchain_groq import ChatGroq\n",
    "from typing import TypedDict\n",
    "from dotenv import load_dotenv\n",
    "load_dotenv()"
   ]
  },
  {
   "cell_type": "code",
   "execution_count": 2,
   "id": "cd1030be",
   "metadata": {},
   "outputs": [],
   "source": [
    "model= ChatGroq(\n",
    "model=\"llama-3.3-70b-versatile\",\n",
    "temperature=0.5\n",
    ")\n"
   ]
  },
  {
   "cell_type": "code",
   "execution_count": 6,
   "id": "3fca210e",
   "metadata": {},
   "outputs": [],
   "source": [
    "class GraphState(TypedDict):\n",
    "    message:str\n",
    "    reply:str\n",
    "\n",
    "def stream(state: GraphState):\n",
    "    message=state[\"message\"]\n",
    "    reply=model.invoke(message)\n",
    "    return {\"reply\":reply}\n"
   ]
  },
  {
   "cell_type": "code",
   "execution_count": 7,
   "id": "49830d80",
   "metadata": {},
   "outputs": [
    {
     "data": {
      "image/png": "[encoded data removed]",
      "text/plain": [
       "<langgraph.graph.state.CompiledStateGraph object at 0x0000028B41127850>"
      ]
     },
     "execution_count": 7,
     "metadata": {},
     "output_type": "execute_result"
    }
   ],
   "source": [
    "graph=StateGraph(GraphState)\n",
    "graph.add_node(\"stream\",stream)\n",
    "\n",
    "graph.add_edge(START,\"stream\")\n",
    "graph.add_edge(\"stream\",END)\n",
    "\n",
    "workflow=graph.compile()\n",
    "workflow"
   ]
  },
  {
   "cell_type": "code",
   "execution_count": 8,
   "id": "a26d7ec8",
   "metadata": {},
   "outputs": [
    {
     "data": {
      "text/plain": [
       "<generator object Pregel.stream at 0x0000028B3E172700>"
      ]
     },
     "execution_count": 8,
     "metadata": {},
     "output_type": "execute_result"
    }
   ],
   "source": [
    "workflow.stream({\"message\":\"Write a poem about a lonely computer.\"},stream_mode=\"messages\")"
   ]
  },
  {
   "cell_type": "code",
   "execution_count": 16,
   "id": "ca80b09c",
   "metadata": {},
   "outputs": [
    {
     "name": "stdout",
     "output_type": "stream",
     "text": [
      "In silence, the computer sits and waits, its screen a dim and lonely fate. Its circuits hum with idle pain, a machine without a user's gentle touch again."
     ]
    }
   ],
   "source": [
    "for data,metadata in workflow.stream({\"message\":\"Write a 2 line poem about a lonely computer.\"},stream_mode=\"messages\"):\n",
    "    print(data.content,end=\"\",flush=True)"
   ]
  },
  {
   "cell_type": "code",
   "execution_count": null,
   "id": "3733c565",
   "metadata": {},
   "outputs": [],
   "source": []
  }
 ],
 "metadata": {
  "kernelspec": {
   "display_name": "Python 3",
   "language": "python",
   "name": "python3"
  },
  "language_info": {
   "codemirror_mode": {
    "name": "ipython",
    "version": 3
   },
   "file_extension": ".py",
   "mimetype": "text/x-python",
   "name": "python",
   "nbconvert_exporter": "python",
   "pygments_lexer": "ipython3",
   "version": "3.11.8"
  }
 },
 "nbformat": 4,
 "nbformat_minor": 5
}
