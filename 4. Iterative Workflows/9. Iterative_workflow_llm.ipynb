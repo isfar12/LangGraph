{
 "cells": [
  {
   "cell_type": "code",
   "execution_count": 19,
   "id": "67928207",
   "metadata": {},
   "outputs": [],
   "source": [
    "from langchain_ollama import ChatOllama\n",
    "from langchain_core.messages import HumanMessage,SystemMessage\n",
    "from langgraph.graph import StateGraph,START,END\n",
    "from typing import TypedDict,Literal\n",
    "from pydantic import BaseModel, Field\n"
   ]
  },
  {
   "cell_type": "code",
   "execution_count": 20,
   "id": "4113019f",
   "metadata": {},
   "outputs": [],
   "source": [
    "class Review(BaseModel):\n",
    "    response:Literal[\"good\",\"needs_improvement\"]=Field(...,description=\"Review of the joke generated, either 'good' or 'needs_improvement'\")\n",
    "\n",
    "llm=ChatOllama(model=\"gemma3:4b\",temperature=.5)\n",
    "review_llm=llm.with_structured_output(Review)\n",
    "model=ChatOllama(model=\"gemma3:270m\",temperature=.5)\n",
    "\n",
    "class IterativeState(TypedDict):\n",
    "    topic:str\n",
    "    input:str\n",
    "    review:str\n",
    "    approval:Literal[\"approved\",\"pending\"]\n",
    "    current_step:int\n",
    "    max_steps:int"
   ]
  },
  {
   "cell_type": "code",
   "execution_count": 21,
   "id": "f8593688",
   "metadata": {},
   "outputs": [],
   "source": [
    "def generate_joke(state:IterativeState):\n",
    "    prompt=[\n",
    "    SystemMessage(content=\"You are a witty comedian who crafts short, clever jokes.\"),    \n",
    "    HumanMessage(content=f'''Generate a joke based on the topic: {state[\"topic\"]} that follows these instructions:\n",
    "    Rules:\n",
    "    - Do NOT use question-answer format.\n",
    "    - Max 280 characters.\n",
    "    - Use observational humor, irony, sarcasm, or cultural references.\n",
    "    - Think in meme logic, punchlines, or relatable takes.\n",
    "    - Use simple, day to day english\n",
    "    ''')]\n",
    "    joke=model.invoke(prompt).content\n",
    "    return {\"input\":joke}"
   ]
  },
  {
   "cell_type": "code",
   "execution_count": 22,
   "id": "c8d90a84",
   "metadata": {},
   "outputs": [
    {
     "data": {
      "text/plain": [
       "{'input': 'Why did the galaxy get a bad grade? Because it was too much space! 🤷\\u200d♀️\\n'}"
      ]
     },
     "execution_count": 22,
     "metadata": {},
     "output_type": "execute_result"
    }
   ],
   "source": [
    "state=IterativeState()\n",
    "state[\"topic\"]=\"Galaxy\"\n",
    "generate_joke(state)\n"
   ]
  },
  {
   "cell_type": "code",
   "execution_count": 23,
   "id": "64f8d1d2",
   "metadata": {},
   "outputs": [],
   "source": [
    "def get_review(state: IterativeState):\n",
    "    prompt=[\n",
    "        SystemMessage(content=\"You are a helpful assistant that reviews jokes. You will respond with either 'good' or 'needs_improvement'.\"),\n",
    "        HumanMessage(content=f'''Review the following joke: {state['input']}. \n",
    "                     \n",
    "                     Instructions: \n",
    "                     1. if the joke length is more than 280 characters, respond with 'needs_improvement'\n",
    "                     2. if the joke length is 100 characters or less, respond with 'good'\n",
    "                     3. if the joke is a question answer based joke, respond with 'needs_improvement'\n",
    "                     ''')\n",
    "    ]\n",
    "    response = review_llm.invoke(prompt).response\n",
    "    state[\"review\"] = response\n",
    "    return {\"review\": state[\"review\"]}"
   ]
  },
  {
   "cell_type": "code",
   "execution_count": 24,
   "id": "0fec0530",
   "metadata": {},
   "outputs": [
    {
     "data": {
      "text/plain": [
       "{'review': 'needs_improvement'}"
      ]
     },
     "execution_count": 24,
     "metadata": {},
     "output_type": "execute_result"
    }
   ],
   "source": [
    "state=IterativeState()\n",
    "state[\"input\"]=\"Why did the chicken cross the road? To get to the other side!\"\n",
    "get_review(state)"
   ]
  },
  {
   "cell_type": "code",
   "execution_count": 33,
   "id": "ca3bff77",
   "metadata": {},
   "outputs": [],
   "source": [
    "def next_steps(state:IterativeState)->Literal[\"approved\",\"pending\"]:\n",
    "    if (state[\"review\"]==\"good\") or (state[\"current_step\"]==state[\"max_steps\"]):\n",
    "        state[\"approval\"]=\"approved\"\n",
    "        return \"approved\"\n",
    "    else:\n",
    "        state[\"approval\"]=\"pending\"\n",
    "        return \"pending\"\n",
    "    \n",
    "def needs_improvement(state:IterativeState):\n",
    "    prompt=[\n",
    "        SystemMessage(content=\"You are a witty comedian who crafts short, clever jokes.\"),    \n",
    "        HumanMessage(content=f'''The following joke needs improvement: {state[\"input\"]}. \n",
    "        Improve the joke based on the following review: {state[\"review\"]}.\n",
    "        Rules:\n",
    "        - Do NOT use question-answer format.\n",
    "        - Max 280 characters.\n",
    "        - Use observational humor, irony, sarcasm, or cultural references.\n",
    "        - Think in meme logic, punchlines, or relatable takes.\n",
    "        - Use simple, day to day english\n",
    "        ''')\n",
    "    ]\n",
    "    joke=model.invoke(prompt).content\n",
    "    new_step=state[\"current_step\"]+1\n",
    "    return {\"input\":joke,\"current_step\":new_step}\n"
   ]
  },
  {
   "cell_type": "code",
   "execution_count": 34,
   "id": "2ed36119",
   "metadata": {},
   "outputs": [
    {
     "data": {
      "image/png": "[encoded data removed]",
      "text/plain": [
       "<langgraph.graph.state.CompiledStateGraph object at 0x000001854D1E4390>"
      ]
     },
     "execution_count": 34,
     "metadata": {},
     "output_type": "execute_result"
    }
   ],
   "source": [
    "graph=StateGraph(IterativeState)\n",
    "graph.add_node(\"generate_joke\",generate_joke)\n",
    "graph.add_node(\"get_review\",get_review)\n",
    "graph.add_node(\"needs_improvement\",needs_improvement)\n",
    "\n",
    "graph.add_edge(START,\"generate_joke\")\n",
    "graph.add_edge(\"generate_joke\",\"get_review\")\n",
    "graph.add_conditional_edges(\"get_review\",next_steps,{\"approved\":END,\"pending\":\"needs_improvement\"})\n",
    "graph.add_edge(\"needs_improvement\",\"get_review\")\n",
    "\n",
    "workflow=graph.compile()\n",
    "workflow"
   ]
  },
  {
   "cell_type": "code",
   "execution_count": 37,
   "id": "5901bea2",
   "metadata": {},
   "outputs": [
    {
     "data": {
      "text/plain": [
       "{'topic': 'Galaxy',\n",
       " 'input': \"Alright, buttercup! You've got a galaxy to conquer, and a telescope to admire. Why did the galaxy get a new telescope? 🤔 Because it's a *really* big star! 🌠..\\n\",\n",
       " 'review': 'needs_improvement',\n",
       " 'current_step': 5,\n",
       " 'max_steps': 5}"
      ]
     },
     "execution_count": 37,
     "metadata": {},
     "output_type": "execute_result"
    }
   ],
   "source": [
    "initial_state={\n",
    "    \"topic\":\"Galaxy\",\n",
    "    \"current_step\": 1,\n",
    "    \"max_steps\":5\n",
    "}\n",
    "\n",
    "final_state=workflow.invoke(initial_state)\n",
    "final_state"
   ]
  },
  {
   "cell_type": "code",
   "execution_count": 42,
   "id": "e4af7357",
   "metadata": {},
   "outputs": [],
   "source": [
    "import edge_tts\n",
    "import asyncio\n",
    "\n",
    "\n",
    "tts = edge_tts.Communicate(text=final_state[\"input\"], voice=\"en-US-AvaNeural\")\n",
    "await tts.save(\"test.wav\")\n"
   ]
  },
  {
   "cell_type": "code",
   "execution_count": null,
   "id": "b5462ba2",
   "metadata": {},
   "outputs": [],
   "source": []
  }
 ],
 "metadata": {
  "kernelspec": {
   "display_name": "Python 3",
   "language": "python",
   "name": "python3"
  },
  "language_info": {
   "codemirror_mode": {
    "name": "ipython",
    "version": 3
   },
   "file_extension": ".py",
   "mimetype": "text/x-python",
   "name": "python",
   "nbconvert_exporter": "python",
   "pygments_lexer": "ipython3",
   "version": "3.11.8"
  }
 },
 "nbformat": 4,
 "nbformat_minor": 5
}
