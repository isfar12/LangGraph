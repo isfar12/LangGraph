{
 "cells": [
  {
   "cell_type": "code",
   "execution_count": 44,
   "id": "582d8894",
   "metadata": {},
   "outputs": [],
   "source": [
    "from langgraph.graph import StateGraph,START,END\n",
    "from typing import TypedDict,Literal\n"
   ]
  },
  {
   "cell_type": "code",
   "execution_count": null,
   "id": "397b658f",
   "metadata": {},
   "outputs": [],
   "source": [
    "class IterativeState(TypedDict):\n",
    "    input: str\n",
    "    length: int\n",
    "    output: str\n",
    "    approved:Literal[\"yes\",\"no\"]\n",
    "    current_step: int\n",
    "    max_steps: int\n",
    "\n",
    "def get_length(state: IterativeState):\n",
    "    return {\"length\": len(state[\"input\"])}\n",
    "\n",
    "def evaluate(state: IterativeState):\n",
    "    if state[\"length\"] < 10 and state[\"current_step\"] < state[\"max_steps\"]:\n",
    "        return {\"approved\":\"no\"}\n",
    "    else:\n",
    "        return {\"approved\":\"yes\"}\n",
    "        \n",
    "def route_next_step(state: IterativeState)->Literal[\"increase_size\",\"within_limit\"]:\n",
    "    if state[\"approved\"] == \"no\":\n",
    "        return \"increase_size\"\n",
    "    else:\n",
    "        return \"within_limit\"\n",
    "\n",
    "def increase_size(state: IterativeState):\n",
    "    new_input = state[\"input\"] + \"*\"\n",
    "    new_step = state[\"current_step\"] + 1\n",
    "    new_length = len(new_input)    \n",
    "\n",
    "    return {\"input\": new_input, \"current_step\": new_step, \"length\": new_length}\n",
    "\n"
   ]
  },
  {
   "cell_type": "code",
   "execution_count": 46,
   "id": "f514651c",
   "metadata": {},
   "outputs": [],
   "source": [
    "graph=StateGraph(IterativeState)\n",
    "\n",
    "graph.add_node(\"get_length\",get_length)\n",
    "graph.add_node(\"evaluate\",evaluate)\n",
    "graph.add_node(\"increase_size\",increase_size)\n",
    "\n",
    "graph.add_edge(START,\"get_length\")\n",
    "graph.add_edge(\"get_length\",\"evaluate\")\n",
    "graph.add_conditional_edges(\"evaluate\",route_next_step,{\"increase_size\":\"increase_size\",\"within_limit\":END})\n",
    "graph.add_edge(\"increase_size\",\"evaluate\")\n",
    "\n",
    "workflow=graph.compile()\n"
   ]
  },
  {
   "cell_type": "code",
   "execution_count": 47,
   "id": "8414c3c5",
   "metadata": {},
   "outputs": [
    {
     "data": {
      "image/png": "[encoded data removed]",
      "text/plain": [
       "<langgraph.graph.state.CompiledStateGraph object at 0x000002169E4F95D0>"
      ]
     },
     "execution_count": 47,
     "metadata": {},
     "output_type": "execute_result"
    }
   ],
   "source": [
    "workflow"
   ]
  },
  {
   "cell_type": "code",
   "execution_count": 49,
   "id": "f00d1220",
   "metadata": {},
   "outputs": [
    {
     "data": {
      "text/plain": [
       "{'input': 'HELLO****',\n",
       " 'length': 9,\n",
       " 'approved': 'yes',\n",
       " 'current_step': 5,\n",
       " 'max_steps': 5}"
      ]
     },
     "execution_count": 49,
     "metadata": {},
     "output_type": "execute_result"
    }
   ],
   "source": [
    "initial_state={\n",
    "    \"input\":\"HELLO\",\n",
    "    \"current_step\": 1,\n",
    "    \"max_steps\":5\n",
    "}\n",
    "\n",
    "final_state=workflow.invoke(initial_state)\n",
    "final_state"
   ]
  },
  {
   "cell_type": "code",
   "execution_count": null,
   "id": "23619c57",
   "metadata": {},
   "outputs": [],
   "source": []
  }
 ],
 "metadata": {
  "kernelspec": {
   "display_name": "Python 3",
   "language": "python",
   "name": "python3"
  },
  "language_info": {
   "codemirror_mode": {
    "name": "ipython",
    "version": 3
   },
   "file_extension": ".py",
   "mimetype": "text/x-python",
   "name": "python",
   "nbconvert_exporter": "python",
   "pygments_lexer": "ipython3",
   "version": "3.11.8"
  }
 },
 "nbformat": 4,
 "nbformat_minor": 5
}
