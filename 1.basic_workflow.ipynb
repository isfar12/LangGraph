{
 "cells": [
  {
   "cell_type": "code",
   "execution_count": 4,
   "id": "7c1c6818",
   "metadata": {},
   "outputs": [],
   "source": [
    "from langgraph.graph import StateGraph,START,END\n",
    "from typing import TypedDict"
   ]
  },
  {
   "cell_type": "code",
   "execution_count": 3,
   "id": "9ea74c75",
   "metadata": {},
   "outputs": [],
   "source": [
    "# define state\n",
    "\n",
    "class BMIState(TypedDict):\n",
    "    weight: float\n",
    "    height: float\n",
    "    bmi: float"
   ]
  },
  {
   "cell_type": "code",
   "execution_count": 6,
   "id": "01d54838",
   "metadata": {},
   "outputs": [],
   "source": [
    "def calculate_bmi(state: BMIState) -> BMIState:\n",
    "    state[\"bmi\"] = state[\"weight\"] / (state[\"height\"] ** 2)\n",
    "    return state"
   ]
  },
  {
   "cell_type": "code",
   "execution_count": 7,
   "id": "16ba42bc",
   "metadata": {},
   "outputs": [],
   "source": [
    "#define the graph\n",
    "graph=StateGraph(BMIState)\n",
    "\n",
    "#add nodes to graph\n",
    "graph.add_node(\"calculate_bmi\",calculate_bmi)\n",
    "#add edges to graph\n",
    "graph.add_edge(START,\"calculate_bmi\")\n",
    "graph.add_edge(\"calculate_bmi\",END)\n",
    "# compile the graph\n",
    "workflow=graph.compile()"
   ]
  },
  {
   "cell_type": "code",
   "execution_count": 8,
   "id": "ea2f981d",
   "metadata": {},
   "outputs": [
    {
     "data": {
      "image/png": "[encoded data removed]",
      "text/plain": [
       "<langgraph.graph.state.CompiledStateGraph object at 0x000001F9981A14D0>"
      ]
     },
     "execution_count": 8,
     "metadata": {},
     "output_type": "execute_result"
    }
   ],
   "source": [
    "workflow"
   ]
  },
  {
   "cell_type": "code",
   "execution_count": 9,
   "id": "c971305c",
   "metadata": {},
   "outputs": [
    {
     "name": "stdout",
     "output_type": "stream",
     "text": [
      "{'weight': 70, 'height': 1.75, 'bmi': 22.857142857142858}\n"
     ]
    }
   ],
   "source": [
    "# execute the graph\n",
    "\n",
    "initial_state={\"weight\": 70, \"height\": 1.75}\n",
    "\n",
    "final_state=workflow.invoke(initial_state)\n",
    "print(final_state)"
   ]
  },
  {
   "cell_type": "markdown",
   "id": "d358320f",
   "metadata": {},
   "source": [
    "# Improving workflow by adding new node"
   ]
  },
  {
   "cell_type": "code",
   "execution_count": 10,
   "id": "63d86d4b",
   "metadata": {},
   "outputs": [],
   "source": [
    "#lets change the workflow and add another node\n",
    "def bmi_type(state:BMIState) -> BMIState:\n",
    "    if state[\"bmi\"] < 18.5:\n",
    "        state[\"bmi_type\"] = \"Underweight\"\n",
    "    elif 18.5 <= state[\"bmi\"] < 24.9:\n",
    "        state[\"bmi_type\"] = \"Normal weight\"\n",
    "    elif 25 <= state[\"bmi\"] < 29.9:\n",
    "        state[\"bmi_type\"] = \"Overweight\"\n",
    "    else:\n",
    "        state[\"bmi_type\"] = \"Obesity\"\n",
    "    return state\n"
   ]
  },
  {
   "cell_type": "code",
   "execution_count": 12,
   "id": "3ded3155",
   "metadata": {},
   "outputs": [
    {
     "data": {
      "image/png": "[encoded data removed]",
      "text/plain": [
       "<langgraph.graph.state.CompiledStateGraph object at 0x000001F997FF8310>"
      ]
     },
     "execution_count": 12,
     "metadata": {},
     "output_type": "execute_result"
    }
   ],
   "source": [
    "graph=StateGraph(BMIState)\n",
    "\n",
    "graph.add_node(\"calculate_bmi\",calculate_bmi)\n",
    "graph.add_node(\"bmi_type\",bmi_type)\n",
    "\n",
    "\n",
    "graph.add_edge(START,\"calculate_bmi\")\n",
    "graph.add_edge(\"calculate_bmi\",\"bmi_type\")\n",
    "graph.add_edge(\"bmi_type\",END)\n",
    "\n",
    "workflow=graph.compile()\n",
    "workflow"
   ]
  },
  {
   "cell_type": "code",
   "execution_count": null,
   "id": "9b1bdb16",
   "metadata": {},
   "outputs": [],
   "source": []
  }
 ],
 "metadata": {
  "kernelspec": {
   "display_name": "Python 3",
   "language": "python",
   "name": "python3"
  },
  "language_info": {
   "codemirror_mode": {
    "name": "ipython",
    "version": 3
   },
   "file_extension": ".py",
   "mimetype": "text/x-python",
   "name": "python",
   "nbconvert_exporter": "python",
   "pygments_lexer": "ipython3",
   "version": "3.11.8"
  }
 },
 "nbformat": 4,
 "nbformat_minor": 5
}
