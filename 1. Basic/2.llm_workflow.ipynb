{
 "cells": [
  {
   "cell_type": "code",
   "execution_count": 1,
   "id": "5df570d0",
   "metadata": {},
   "outputs": [
    {
     "data": {
      "text/plain": [
       "True"
      ]
     },
     "execution_count": 1,
     "metadata": {},
     "output_type": "execute_result"
    }
   ],
   "source": [
    "from dotenv import load_dotenv\n",
    "load_dotenv()"
   ]
  },
  {
   "cell_type": "code",
   "execution_count": 2,
   "id": "445ab455",
   "metadata": {},
   "outputs": [],
   "source": [
    "from langchain_groq import ChatGroq\n",
    "llm = ChatGroq(\n",
    "    model_name=\"llama-3.3-70b-versatile\",\n",
    "    temperature=0.7\n",
    ")\n",
    "# llm.invoke(\"Tell me a joke\")"
   ]
  },
  {
   "cell_type": "code",
   "execution_count": 3,
   "id": "0747089f",
   "metadata": {},
   "outputs": [],
   "source": [
    "from langgraph.graph import StateGraph,START,END\n",
    "from typing import TypedDict"
   ]
  },
  {
   "cell_type": "code",
   "execution_count": 4,
   "id": "3b71d3c2",
   "metadata": {},
   "outputs": [],
   "source": [
    "#the output state of the LLM\n",
    "class LLMState(TypedDict):\n",
    "    question:str\n",
    "    answer:str\n",
    "\n",
    "#another node for QnA\n",
    "\n",
    "def llm_qna(state: LLMState) -> LLMState:\n",
    "    # Process the question and generate an answer\n",
    "    question = state[\"question\"]\n",
    "\n",
    "    prompt=f\"Answer the following question: {question}\"\n",
    "\n",
    "    state[\"answer\"] = llm.invoke(prompt).content\n",
    "\n",
    "    return state\n"
   ]
  },
  {
   "cell_type": "code",
   "execution_count": 7,
   "id": "d83310ad",
   "metadata": {},
   "outputs": [],
   "source": [
    "graph=StateGraph(LLMState)\n",
    "graph.add_node(\"llm_qna\", llm_qna)\n",
    "\n",
    "graph.add_edge(START, \"llm_qna\")\n",
    "graph.add_edge(\"llm_qna\", END)\n",
    "\n",
    "workflow=graph.compile()"
   ]
  },
  {
   "cell_type": "code",
   "execution_count": 8,
   "id": "f26ecbe7",
   "metadata": {},
   "outputs": [
    {
     "data": {
      "image/png": "[encoded data removed]",
      "text/plain": [
       "<langgraph.graph.state.CompiledStateGraph object at 0x000001D497F61250>"
      ]
     },
     "execution_count": 8,
     "metadata": {},
     "output_type": "execute_result"
    }
   ],
   "source": [
    "workflow"
   ]
  },
  {
   "cell_type": "code",
   "execution_count": 9,
   "id": "6c07521b",
   "metadata": {},
   "outputs": [],
   "source": [
    "initial_state={\"question\": \"What is the capital of France?\"}\n",
    "final_state=workflow.invoke(initial_state)"
   ]
  },
  {
   "cell_type": "code",
   "execution_count": 10,
   "id": "50ccb5cf",
   "metadata": {},
   "outputs": [
    {
     "data": {
      "text/plain": [
       "{'question': 'What is the capital of France?',\n",
       " 'answer': 'The capital of France is Paris.'}"
      ]
     },
     "execution_count": 10,
     "metadata": {},
     "output_type": "execute_result"
    }
   ],
   "source": [
    "final_state"
   ]
  },
  {
   "cell_type": "code",
   "execution_count": null,
   "id": "74730dfa",
   "metadata": {},
   "outputs": [],
   "source": []
  }
 ],
 "metadata": {
  "kernelspec": {
   "display_name": "Python 3",
   "language": "python",
   "name": "python3"
  },
  "language_info": {
   "codemirror_mode": {
    "name": "ipython",
    "version": 3
   },
   "file_extension": ".py",
   "mimetype": "text/x-python",
   "name": "python",
   "nbconvert_exporter": "python",
   "pygments_lexer": "ipython3",
   "version": "3.11.8"
  }
 },
 "nbformat": 4,
 "nbformat_minor": 5
}
